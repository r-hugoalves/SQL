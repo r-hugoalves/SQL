{
  "nbformat": 4,
  "nbformat_minor": 0,
  "metadata": {
    "colab": {
      "provenance": [],
      "toc_visible": true,
      "authorship_tag": "ABX9TyPCKrGlTTESvtPrhmAokJKn",
      "include_colab_link": true
    },
    "kernelspec": {
      "name": "python3",
      "display_name": "Python 3"
    },
    "language_info": {
      "name": "python"
    }
  },
  "cells": [
    {
      "cell_type": "markdown",
      "metadata": {
        "id": "view-in-github",
        "colab_type": "text"
      },
      "source": [
        "<a href=\"https://colab.research.google.com/github/r-hugoalves/SQL/blob/master/Base_de_Dados_e_Linguagem_SQL_.ipynb\" target=\"_parent\"><img src=\"https://colab.research.google.com/assets/colab-badge.svg\" alt=\"Open In Colab\"/></a>"
      ]
    },
    {
      "cell_type": "markdown",
      "source": [
        "#Base de Dados e Linguagem SQL"
      ],
      "metadata": {
        "id": "mZxR_BZF82z9"
      }
    },
    {
      "cell_type": "markdown",
      "source": [
        "##**1. Bases de Dados Relacionais**"
      ],
      "metadata": {
        "id": "91eiuKrt83DJ"
      }
    },
    {
      "cell_type": "markdown",
      "source": [
        "### 1.1 Físico"
      ],
      "metadata": {
        "id": "4-qxKdV583ke"
      }
    },
    {
      "cell_type": "markdown",
      "source": [
        "###1.2 Lógico"
      ],
      "metadata": {
        "id": "XNdIBo1784NC"
      }
    },
    {
      "cell_type": "markdown",
      "source": [
        "##**2. Introdução ao SQL**"
      ],
      "metadata": {
        "id": "MeRkirZt84ax"
      }
    },
    {
      "cell_type": "markdown",
      "source": [
        "###2.1 Definição"
      ],
      "metadata": {
        "id": "scacv0oJ84ge"
      }
    },
    {
      "cell_type": "markdown",
      "source": [
        "###2.2 DDL"
      ],
      "metadata": {
        "id": "oB64CNyZ84lJ"
      }
    },
    {
      "cell_type": "markdown",
      "source": [
        "###2.3 DML"
      ],
      "metadata": {
        "id": "PpfEAm2M84wU"
      }
    },
    {
      "cell_type": "markdown",
      "source": [
        "##**3. AWS Console**"
      ],
      "metadata": {
        "id": "4EKRLi8Z85AN"
      }
    },
    {
      "cell_type": "markdown",
      "source": [
        "##**4. Armazenamento de dados com AWS S3**"
      ],
      "metadata": {
        "id": "aLr_hEri85LX"
      }
    },
    {
      "cell_type": "markdown",
      "source": [
        "###4.1 Definição"
      ],
      "metadata": {
        "id": "eZJbzNoK85QT"
      }
    },
    {
      "cell_type": "markdown",
      "source": [
        "###4.2 Funcionamento"
      ],
      "metadata": {
        "id": "kV7bQHwM85Um"
      }
    },
    {
      "cell_type": "markdown",
      "source": [
        "###4.3 Definição de Preço"
      ],
      "metadata": {
        "id": "WrW7FnU285eU"
      }
    },
    {
      "cell_type": "markdown",
      "source": [
        "##**5. Computação em SQL com o AWS Athena**"
      ],
      "metadata": {
        "id": "8W5FWF6q85m9"
      }
    },
    {
      "cell_type": "markdown",
      "source": [
        "###6.1 Definição"
      ],
      "metadata": {
        "id": "AkBGnVIV85rq"
      }
    },
    {
      "cell_type": "markdown",
      "source": [
        "###6.2 Funcionamento"
      ],
      "metadata": {
        "id": "07mqVJlE85vs"
      }
    },
    {
      "cell_type": "markdown",
      "source": [
        "###6.3 Definição de preço"
      ],
      "metadata": {
        "id": "HqN3pHZ286Pc"
      }
    },
    {
      "cell_type": "markdown",
      "source": [
        "##**Exercícios**"
      ],
      "metadata": {
        "id": "CcNmYI2j861u"
      }
    }
  ]
}