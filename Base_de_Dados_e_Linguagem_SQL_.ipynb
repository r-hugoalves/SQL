{
  "nbformat": 4,
  "nbformat_minor": 0,
  "metadata": {
    "colab": {
      "provenance": [],
      "toc_visible": true,
      "authorship_tag": "ABX9TyPPPFEBgulpsHwViPTa+MOL",
      "include_colab_link": true
    },
    "kernelspec": {
      "name": "python3",
      "display_name": "Python 3"
    },
    "language_info": {
      "name": "python"
    }
  },
  "cells": [
    {
      "cell_type": "markdown",
      "metadata": {
        "id": "view-in-github",
        "colab_type": "text"
      },
      "source": [
        "<a href=\"https://colab.research.google.com/github/r-hugoalves/SQL/blob/master/Base_de_Dados_e_Linguagem_SQL_.ipynb\" target=\"_parent\"><img src=\"https://colab.research.google.com/assets/colab-badge.svg\" alt=\"Open In Colab\"/></a>"
      ]
    },
    {
      "cell_type": "markdown",
      "source": [
        "#Base de Dados e Linguagem SQL"
      ],
      "metadata": {
        "id": "mZxR_BZF82z9"
      }
    },
    {
      "cell_type": "markdown",
      "source": [
        "##**1. Bases de Dados Relacionais**"
      ],
      "metadata": {
        "id": "91eiuKrt83DJ"
      }
    },
    {
      "cell_type": "markdown",
      "source": [
        "### 1.1 Físico"
      ],
      "metadata": {
        "id": "4-qxKdV583ke"
      }
    },
    {
      "cell_type": "markdown",
      "source": [
        "Sistema Gerenciador de Base de Dados\n",
        "> Software que gerencia o armazenamento físico de dados\n",
        "\n",
        "Alguns exemplos:\n",
        "- MySQL\n",
        "- PostgreSQL\n",
        "- MariaDB\n",
        "- Oracle\n"
      ],
      "metadata": {
        "id": "QhPKcN2Pr2qh"
      }
    },
    {
      "cell_type": "markdown",
      "source": [
        "###1.2 Lógico"
      ],
      "metadata": {
        "id": "XNdIBo1784NC"
      }
    },
    {
      "cell_type": "markdown",
      "source": [
        "Conceitos relacionados a organização lógica dos dados. \n",
        "\n",
        "- Tabela\n",
        "> Estrutura tabular de dados organizados em linhas e colunas\n",
        "\n",
        "- Base de Dados\n",
        "> Conjunto de tabelas"
      ],
      "metadata": {
        "id": "yOhW3xl2sEqx"
      }
    },
    {
      "cell_type": "markdown",
      "source": [
        "##**2. Introdução ao SQL**"
      ],
      "metadata": {
        "id": "MeRkirZt84ax"
      }
    },
    {
      "cell_type": "markdown",
      "source": [
        "###2.1 Definição"
      ],
      "metadata": {
        "id": "scacv0oJ84ge"
      }
    },
    {
      "cell_type": "markdown",
      "source": [
        "A linguagem de consulta estruturada, do inglês *structured query language* ou SQL, é uma linguagem de programação declarativa para interação com os dados armazenados nas tabelas de uma base de dados. Existe uma versão padrão do SQL registrada no ANSI, mas cada SGBD tem a sua própria versão."
      ],
      "metadata": {
        "id": "um91vEncv2Co"
      }
    },
    {
      "cell_type": "markdown",
      "source": [
        "Os códigos SQL são conhecidos como *queries* e são divididas em dois grandes grupos:\n",
        "\n",
        " - **DDL**: Linguagem de definição de dados;\n",
        " - **DML**: Linguagem de manipulação de dados."
      ],
      "metadata": {
        "id": "A3XY4ZjuwNQZ"
      }
    },
    {
      "cell_type": "markdown",
      "source": [
        "Para exemplificar esses conceitos, vamos utilizar a tabela abaixo, com dados de clientes de uma instituição financeira:"
      ],
      "metadata": {
        "id": "55tsagvuwRx4"
      }
    },
    {
      "cell_type": "markdown",
      "source": [
        "| id        | idade | sexo | dependentes | escolaridade | tipo_cartao | limite_credito | valor_transacoes_12m | qtd_transacoes_12m |\n",
        "|-----------|-------|------|---|--------------|-|----------------|----------|----|\n",
        "| 768805383 | 45    | M    | 3 | ensino medio | blue | 12.691,51      | 1.144,90 | 42 |\n",
        "| 818770008 | 49    | F    | 5 | mestrado     | blue | 8.256,96      | 1.291,45 | 33 |\n",
        "| 713982108 | 51    | M    | 3 | mestrado     | blue | 3.418,56      | 1.887,72 | 20 |"
      ],
      "metadata": {
        "id": "xcDezXU9wUvV"
      }
    },
    {
      "cell_type": "markdown",
      "source": [
        "###2.2 DDL"
      ],
      "metadata": {
        "id": "oB64CNyZ84lJ"
      }
    },
    {
      "cell_type": "markdown",
      "source": [
        "São instruções para criar/excluir/alterar tabelas e inserir/remover/atualizar dados."
      ],
      "metadata": {
        "id": "7KSFxLk6wgWv"
      }
    },
    {
      "cell_type": "markdown",
      "source": [
        "**Query 1: Criando uma tabela de clientes**\n",
        "\n",
        "```sql\n",
        "CREATE TABLE clientes (\n",
        "  id BIGINT, \n",
        "  idade BIGINT, \n",
        "  sexo STRING, \n",
        "  dependentes BIGINT, \n",
        "  escolaridade STRING, \n",
        "  tipo_cartao STRING, \n",
        "  limite_credito DOUBLE, \n",
        "  valor_transacoes_12m DOUBLE, \n",
        "  qtd_transacoes_12m BIGINT\n",
        ");\n",
        "```"
      ],
      "metadata": {
        "id": "36s1FOqlwlJd"
      }
    },
    {
      "cell_type": "markdown",
      "source": [
        "**Query 2: Excluindo a tabela de clientes**\n",
        "\n",
        "```sql\n",
        "DROP TABLE clientes;\n",
        "```"
      ],
      "metadata": {
        "id": "hq6rXNcnxCZ-"
      }
    },
    {
      "cell_type": "markdown",
      "source": [
        "**Query 3: Inserindo dados na tabela**\n",
        "\n",
        "```sql\n",
        "INSERT INTO clientes VALUES (768805383, 45, 'M', 3, 'ensino medio', 'blue', 12691.51, 1144.90, 42);\n",
        "INSERT INTO clientes VALUES (818770008, 49, 'F', 5, 'mestrado', 'blue', 8256.96, 1291.45, 33);\n",
        "INSERT INTO clientes VALUES (713982108, 51, 'M', 3, 'mestrado', 'blue', 3418.56, 1887.72, 20);\n",
        "```"
      ],
      "metadata": {
        "id": "nWB9xXWoxcaK"
      }
    },
    {
      "cell_type": "markdown",
      "source": [
        "**Query 4: Removendo os dados da tabela**\n",
        "\n",
        "```sql\n",
        "DELETE FROM clientes WHERE sexo = 'F';\n",
        "```"
      ],
      "metadata": {
        "id": "FduvO_NexwDt"
      }
    },
    {
      "cell_type": "markdown",
      "source": [
        "###2.3 DML"
      ],
      "metadata": {
        "id": "PpfEAm2M84wU"
      }
    },
    {
      "cell_type": "markdown",
      "source": [
        "São instruções para manipular (selecionar, filtrar, agregar, limitar, etc.) os dados armazenados em tabelas."
      ],
      "metadata": {
        "id": "kWZl7qosyIp0"
      }
    },
    {
      "cell_type": "markdown",
      "source": [
        "**Query 1: Selecionar o id, a idade e o limite de crédito dos clientes homens da tabela de clientes, ordenados por idade de maneira decrescente.**\n",
        "\n",
        "```sql\n",
        "SELECT id, idade, limite_credito FROM clientes WHERE sexo = 'M' ORDER BY idade DESC;\n",
        "```\n"
      ],
      "metadata": {
        "id": "GQkWtYyyy0VI"
      }
    },
    {
      "cell_type": "markdown",
      "source": [
        "**Query 2: Selecionar a média da idade dos clientes por sexo da tabela de clientes.** \n",
        "\n",
        "```sql\n",
        "SELECT sexo, AVG(idade) AS \"media_idade_por_sexo\" FROM clientes GROUP BY sexo;\n",
        "```"
      ],
      "metadata": {
        "id": "pgT7To4Oy7jG"
      }
    },
    {
      "cell_type": "markdown",
      "source": [
        "##**3. AWS Console**"
      ],
      "metadata": {
        "id": "4EKRLi8Z85AN"
      }
    },
    {
      "cell_type": "markdown",
      "source": [
        "A Amazon Web Service (AWS) é uma plataforma de computação em nuvem. Ela oferece uma série de serviços de computação, armanezamento de dados, etc. Vamos utilizar dois serviços da plataforma para construir o nosso SGBD e aprender o SQL:"
      ],
      "metadata": {
        "id": "F30pk_492Zp7"
      }
    },
    {
      "cell_type": "markdown",
      "source": [
        " - AWS [S3](https://aws.amazon.com/pt/s3/): Serviço de armazenamento de dados;\n",
        " - AWS [Athena](https://aws.amazon.com/pt/athena/): Serviços de computação em SQL."
      ],
      "metadata": {
        "id": "PUZPaGG-2a4J"
      }
    },
    {
      "cell_type": "markdown",
      "source": [
        "> **Atenção:** Todo serviço utilizado tem um custo associado! Se a sua conta da AWS é nova, você é elegível a diversos serviços gratuitos (por tempo/quota de uso, etc.). Confira nesse [link](https://aws.amazon.com/pt/free) a oferta atual (elas podem mudar ao longo do tempo).\n",
        "\n",
        "> Para criar a sua conta na plataforma, basta acessar este [link](https://portal.aws.amazon.com/)."
      ],
      "metadata": {
        "id": "AmeMhc9p2e7C"
      }
    },
    {
      "cell_type": "markdown",
      "source": [
        "##**4. Armazenamento de dados com AWS S3**"
      ],
      "metadata": {
        "id": "aLr_hEri85LX"
      }
    },
    {
      "cell_type": "markdown",
      "source": [
        "###4.1 Definição"
      ],
      "metadata": {
        "id": "eZJbzNoK85QT"
      }
    },
    {
      "cell_type": "markdown",
      "source": [
        "O AWS [S3](https://aws.amazon.com/pt/s3/) é um serviço de armazenameto distribuido e sem servidor que atua como um repositório de dados."
      ],
      "metadata": {
        "id": "NCHd9Bza6vsK"
      }
    },
    {
      "cell_type": "markdown",
      "source": [
        "###4.2 Funcionamento"
      ],
      "metadata": {
        "id": "kV7bQHwM85Um"
      }
    },
    {
      "cell_type": "markdown",
      "source": [
        "1. Um *bucket* é uma partição lógica de dados, como uma pasta do seu computador;\n",
        "2. Um objeto é um dado que você armazena dentro de um um *bucket*;\n",
        "3. Outros serviços da plataforma podem acessar os dados armazenados. "
      ],
      "metadata": {
        "id": "b78n53Mx66iw"
      }
    },
    {
      "cell_type": "markdown",
      "source": [
        "###4.3 Definição de Preço"
      ],
      "metadata": {
        "id": "WrW7FnU285eU"
      }
    },
    {
      "cell_type": "markdown",
      "source": [
        "O AWS [S3](https://aws.amazon.com/pt/s3/) cobra por volume de dados armazenado. O preço atual é complexo, mas inicia-se com 0,0405 USD por *gigabyte* (GB) armazenado (0,21 BRL aproximadamente). É possível consultar o preço na página web do serviço ([link](https://aws.amazon.com/pt/s3/pricing/?nc=sn&loc=4))."
      ],
      "metadata": {
        "id": "YvI8pZlw67-c"
      }
    },
    {
      "cell_type": "markdown",
      "source": [
        "##**5. Computação em SQL com o AWS Athena**"
      ],
      "metadata": {
        "id": "8W5FWF6q85m9"
      }
    },
    {
      "cell_type": "markdown",
      "source": [
        "###6.1 Definição"
      ],
      "metadata": {
        "id": "AkBGnVIV85rq"
      }
    },
    {
      "cell_type": "markdown",
      "source": [
        "O AWS [Athena](https://aws.amazon.com/pt/athena/) é um serviço de computação distribuida e sem servidor que atua como um motor de consulta (*query engine*)."
      ],
      "metadata": {
        "id": "WM_Mu-9oBOVC"
      }
    },
    {
      "cell_type": "markdown",
      "source": [
        "###6.2 Funcionamento"
      ],
      "metadata": {
        "id": "07mqVJlE85vs"
      }
    },
    {
      "cell_type": "markdown",
      "source": [
        "1. Transforma uma *query* em código;\n",
        "2. Processa os arquivos armazenados no AWS S3 com o código gerado; \n",
        "3. Retorna os resultados no console. "
      ],
      "metadata": {
        "id": "M2TQg-UNBPgM"
      }
    },
    {
      "cell_type": "markdown",
      "source": [
        "###6.3 Definição de preço"
      ],
      "metadata": {
        "id": "HqN3pHZ286Pc"
      }
    },
    {
      "cell_type": "markdown",
      "source": [
        "O AWS [Athena](https://aws.amazon.com/pt/athena/) cobra por consulta. O preço atual é de 9,00 USD por *terabyte* escaneado (47,46 BRL aproximadamente). É possível consultar o preço na página web do serviço ([link](https://aws.amazon.com/pt/athena/pricing/?nc=sn&loc=3))."
      ],
      "metadata": {
        "id": "_92U8PVeBRok"
      }
    }
  ]
}