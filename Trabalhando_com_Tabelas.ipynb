{
  "nbformat": 4,
  "nbformat_minor": 0,
  "metadata": {
    "colab": {
      "provenance": [],
      "authorship_tag": "ABX9TyPPSo9LlhnWsqBYOpDY2pFs",
      "include_colab_link": true
    },
    "kernelspec": {
      "name": "python3",
      "display_name": "Python 3"
    },
    "language_info": {
      "name": "python"
    }
  },
  "cells": [
    {
      "cell_type": "markdown",
      "metadata": {
        "id": "view-in-github",
        "colab_type": "text"
      },
      "source": [
        "<a href=\"https://colab.research.google.com/github/r-hugoalves/SQL/blob/master/Trabalhando_com_Tabelas.ipynb\" target=\"_parent\"><img src=\"https://colab.research.google.com/assets/colab-badge.svg\" alt=\"Open In Colab\"/></a>"
      ]
    },
    {
      "cell_type": "markdown",
      "source": [
        "#Trabalhando com Tabelas"
      ],
      "metadata": {
        "id": "-eeHoXeuaBEh"
      }
    },
    {
      "cell_type": "markdown",
      "source": [
        "##**1. Criando Tabelas**"
      ],
      "metadata": {
        "id": "GhswtqbdaBno"
      }
    },
    {
      "cell_type": "markdown",
      "source": [
        "1.1 Tipos de dados"
      ],
      "metadata": {
        "id": "DVRjnFDraClK"
      }
    },
    {
      "cell_type": "markdown",
      "source": [
        "1.2 Comando CREATE"
      ],
      "metadata": {
        "id": "4IkVDuljaC-E"
      }
    },
    {
      "cell_type": "markdown",
      "source": [
        "##**2. Alterando e descartando tabelas**"
      ],
      "metadata": {
        "id": "Gqk8rnpGaDT8"
      }
    },
    {
      "cell_type": "markdown",
      "source": [
        "###2.1 Comando ALTER TABLE"
      ],
      "metadata": {
        "id": "Aar_fqxbaDaT"
      }
    },
    {
      "cell_type": "markdown",
      "source": [
        "###2.2 Comando DROP"
      ],
      "metadata": {
        "id": "k7LosPQAaDgO"
      }
    },
    {
      "cell_type": "markdown",
      "source": [
        "##**3. Inserindo, atualizando e apagando dados**"
      ],
      "metadata": {
        "id": "ghHaI0m6aDy4"
      }
    },
    {
      "cell_type": "markdown",
      "source": [
        "###3.1 Comando SELECT"
      ],
      "metadata": {
        "id": "gJBxeeIKaD_X"
      }
    },
    {
      "cell_type": "markdown",
      "source": [
        "###3.2 Comando INSERT"
      ],
      "metadata": {
        "id": "A2U2e8LaaEIZ"
      }
    },
    {
      "cell_type": "markdown",
      "source": [
        "###3.3 Comando UPDATE"
      ],
      "metadata": {
        "id": "McxOH4-QaEQK"
      }
    },
    {
      "cell_type": "markdown",
      "source": [
        "###3.4 Comando DELETE"
      ],
      "metadata": {
        "id": "4gvYmxXvaEWu"
      }
    }
  ]
}